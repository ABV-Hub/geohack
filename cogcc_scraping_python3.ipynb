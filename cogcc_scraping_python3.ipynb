{
 "cells": [
  {
   "cell_type": "code",
   "execution_count": null,
   "metadata": {
    "collapsed": true
   },
   "outputs": [],
   "source": [
    "'''\n",
    "Written by Jesse Pisel 2016/2017 jessepisel@gmail.com\n",
    "\n",
    "This version is written in Python 3, requirements are listed in the cell below\n",
    "\n",
    "'''"
   ]
  },
  {
   "cell_type": "code",
   "execution_count": 5,
   "metadata": {
    "collapsed": false
   },
   "outputs": [],
   "source": [
    "import requests, bs4, re, time, os, wget\n",
    "import numpy as np\n",
    "from semantic.numbers import NumberService\n",
    "import pandas as pd"
   ]
  },
  {
   "cell_type": "code",
   "execution_count": 27,
   "metadata": {
    "collapsed": false,
    "scrolled": true
   },
   "outputs": [],
   "source": [
    "'''\n",
    "to start you need to save your query from the COGCC website to a local drive.\n",
    "Once you have saved it you need to direct the lines below to that path.\n",
    "It will open that html file and parse out the well API numbers and create a list of links to download them \n",
    "'''\n",
    "with open('D:/co wells/COGCC Data.html', 'r') as f:\n",
    "    wells=f.read()\n",
    "linked=[]\n",
    "links=[]\n",
    "soup=bs4.BeautifulSoup(wells, \"lxml\")\n",
    "for link in soup.find_all('a'):\n",
    "    links.append(link.get('href'))\n",
    "for i in range(0,len(links),2):\n",
    "    linked.append(links[i])\n",
    "number_of_wells=len(linked)"
   ]
  },
  {
   "cell_type": "code",
   "execution_count": 25,
   "metadata": {
    "collapsed": false
   },
   "outputs": [
    {
     "ename": "ValueError",
     "evalue": "max() arg is an empty sequence",
     "output_type": "error",
     "traceback": [
      "\u001b[0;31m---------------------------------------------------------------------------\u001b[0m",
      "\u001b[0;31mValueError\u001b[0m                                Traceback (most recent call last)",
      "\u001b[0;32m<ipython-input-25-ddb24e6c46d8>\u001b[0m in \u001b[0;36m<module>\u001b[0;34m()\u001b[0m\n\u001b[1;32m     19\u001b[0m         \u001b[1;32mpass\u001b[0m\u001b[1;33m\u001b[0m\u001b[0m\n\u001b[1;32m     20\u001b[0m     \u001b[0mtime\u001b[0m\u001b[1;33m.\u001b[0m\u001b[0msleep\u001b[0m\u001b[1;33m(\u001b[0m\u001b[1;36m5\u001b[0m\u001b[1;33m)\u001b[0m\u001b[1;33m\u001b[0m\u001b[0m\n\u001b[0;32m---> 21\u001b[0;31m \u001b[0mprint\u001b[0m\u001b[1;33m(\u001b[0m\u001b[0mstr\u001b[0m\u001b[1;33m(\u001b[0m\u001b[1;33m(\u001b[0m\u001b[1;36m1\u001b[0m\u001b[1;33m-\u001b[0m\u001b[1;33m(\u001b[0m\u001b[0mmax\u001b[0m\u001b[1;33m(\u001b[0m\u001b[0mfail\u001b[0m\u001b[1;33m)\u001b[0m\u001b[1;33m/\u001b[0m\u001b[0mfloat\u001b[0m\u001b[1;33m(\u001b[0m\u001b[0mnumber_of_wells\u001b[0m\u001b[1;33m)\u001b[0m\u001b[1;33m)\u001b[0m\u001b[1;33m)\u001b[0m\u001b[1;33m*\u001b[0m\u001b[1;36m100\u001b[0m\u001b[1;33m)\u001b[0m\u001b[1;33m+\u001b[0m\u001b[1;34m'% of the requested wells were sucessfully added to the list'\u001b[0m\u001b[1;33m)\u001b[0m\u001b[1;33m\u001b[0m\u001b[0m\n\u001b[0m",
      "\u001b[0;31mValueError\u001b[0m: max() arg is an empty sequence"
     ]
    }
   ],
   "source": [
    "directional_link=[]\n",
    "las_link=[]\n",
    "well_id_list=[]\n",
    "fail=[]\n",
    "for k in range(number_of_wells):\n",
    "    well_id=re.findall(r'\\d+',linked[k]) #pulls well API number from the well index\n",
    "    response1 = requests.get('http://cogcc.state.co.us/weblink/results.aspx?id='+str(well_id[0])) #scrapes the individual well docs page\n",
    "    soup2=bs4.BeautifulSoup(response1.text, \"lxml\")\n",
    "    searching=soup2.find_all('tr') #selects the rows from the scraped data\n",
    "    try:\n",
    "        well_page = [t for t in searching if t.findAll(text=re.compile('DIRECTIONAL DATA'))] #selects and assigns the data in the directional row\n",
    "        well_page_las = [t for t in searching if t.findAll(text=re.compile('LAS'))] #selects and assigns the data in the LAS row\n",
    "        las_link.append(well_page_las[0].find_all('a')[2].get('href')) #chooses the link for the LAS logging while drilling\n",
    "        directional_link.append(well_page[1].find_all('a')[2].get('href')) #chooses the link for the directional data\n",
    "        well_id_list.append(well_id[0])\n",
    "        \n",
    "    except:\n",
    "        fail.append(k)\n",
    "        pass\n",
    "    time.sleep(5)\n",
    "print(str((1-(max(fail)/float(number_of_wells)))*100)+'% of the requested wells were sucessfully added to the list')\n"
   ]
  },
  {
   "cell_type": "code",
   "execution_count": 28,
   "metadata": {
    "collapsed": false
   },
   "outputs": [
    {
     "data": {
      "text/plain": [
       "<html>\n",
       "<head>\n",
       "<script src=\"/urchin.js\" type=\"text/javascript\"></script>\n",
       "<script type=\"text/javascript\">\n",
       "urchinTracker();\n",
       "</script>\n",
       "<meta content=\"Microsoft Visual Studio 6.0\" name=\"GENERATOR\"/>\n",
       "<title>COGIS - Query Process</title>\n",
       "</head>\n",
       "<body>\n",
       "<font face=\"Arial\">\n",
       "<!--\n",
       "<img SRC=\"images/s_cogcc_head.jpg\" width=\"513\" height=\"51\" alt=\"Colorado Oil & Gas Conservation Commission\"><br>\n",
       "<img SRC=\"images/s_head_fill.jpg\" width=\"123\" height=\"22\">\n",
       " -->\n",
       "<p><font color=\"#000080\" face=\"Arial\" size=\"5\"><b>     \n",
       "  COGIS - Facility Query Results</b></font></p>\n",
       "\n",
       "An error occurred on the server when processing the URL. Please contact the system administrator. <p></p> If you are the system administrator please click <a href=\"http://go.microsoft.com/fwlink/?LinkID=82731\">here</a> to find out more about this error.</font></body></html>"
      ]
     },
     "execution_count": 28,
     "metadata": {},
     "output_type": "execute_result"
    }
   ],
   "source": [
    "soup"
   ]
  },
  {
   "cell_type": "code",
   "execution_count": null,
   "metadata": {
    "collapsed": true
   },
   "outputs": [],
   "source": [
    "#below you need to set a path to where you want all the logs saved, in this case we make new folders inside the well logs folder\n",
    "for well in well_id_list:\n",
    "    newpath = ((r'creates path to .../well logs/%s') % (well)) \n",
    "    if not os.path.exists(newpath): os.makedirs(newpath) #makes folders named with the well api missing 50 on the front"
   ]
  },
  {
   "cell_type": "code",
   "execution_count": null,
   "metadata": {
    "collapsed": true
   },
   "outputs": [],
   "source": [
    "for l in range(len(well_id_list)):\n",
    "    wget.download('http://cogcc.state.co.us/weblink/'+str(directional_link[l]),\n",
    "              out='path to .../well logs/'+str(well_id_list[l]))\n",
    "    wget.download('http://cogcc.state.co.us/weblink/'+str(las_link[l]),\n",
    "              out='path to .../well logs/'+str(well_id_list[l]))\n",
    "    time.sleep(10) #do not change this line or you'll get banned"
   ]
  }
 ],
 "metadata": {
  "anaconda-cloud": {},
  "kernelspec": {
   "display_name": "Python [conda root]",
   "language": "python",
   "name": "conda-root-py"
  },
  "language_info": {
   "codemirror_mode": {
    "name": "ipython",
    "version": 3
   },
   "file_extension": ".py",
   "mimetype": "text/x-python",
   "name": "python",
   "nbconvert_exporter": "python",
   "pygments_lexer": "ipython3",
   "version": "3.5.2"
  }
 },
 "nbformat": 4,
 "nbformat_minor": 2
}
